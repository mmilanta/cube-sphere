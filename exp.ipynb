{
 "cells": [
  {
   "cell_type": "code",
   "execution_count": 1,
   "id": "5b3faa93",
   "metadata": {},
   "outputs": [],
   "source": [
    "import matplotlib.pyplot as plt\n",
    "\n",
    "import numpy as np"
   ]
  },
  {
   "cell_type": "code",
   "execution_count": null,
   "id": "5546a5df",
   "metadata": {},
   "outputs": [
    {
     "data": {
      "text/plain": [
       "<matplotlib.colorbar.Colorbar at 0x7e41286e6090>"
      ]
     },
     "execution_count": 15,
     "metadata": {},
     "output_type": "execute_result"
    },
    {
     "data": {
      "image/png": "[encoded data removed]",
      "text/plain": [
       "<Figure size 640x480 with 2 Axes>"
      ]
     },
     "metadata": {},
     "output_type": "display_data"
    }
   ],
   "source": [
    "R = 5\n",
    "data = np.zeros((2 * R, 2 * R))\n",
    "for i in range(2 * R):\n",
    "    for j in range(2 * R):\n",
    "        x = i + 0.5 - R\n",
    "        y = j + 0.5 - R\n",
    "        data[i, j] = np.sqrt(np.maximum(R**2 - x**2 - y**2, 0))\n",
    "plt.imshow(data, cmap='viridis', extent=(-R, R, -R, R))\n",
    "plt.colorbar(label='Height')\n"
   ]
  },
  {
   "cell_type": "code",
   "execution_count": 16,
   "id": "60f8e83b",
   "metadata": {},
   "outputs": [],
   "source": [
    "blocks = [\n",
    "    {\n",
    "        \"values\": [[1,1], [1,1]],\n",
    "        \"name\": \"Full\",\n",
    "        \"id\": 0,\n",
    "    },\n",
    "    {\n",
    "        \"values\": [[0,0], [0,0]],\n",
    "        \"name\": \"Empty\",\n",
    "        \"id\": -1,\n",
    "    },\n",
    "    {\n",
    "        \"values\": [[0.5, 0.5], [0.5, 0.5]],\n",
    "        \"name\": \"Slab\",\n",
    "        \"id\": 1,\n",
    "    },\n",
    "    {\n",
    "        \"values\": [[0.5, 0.5], [1,1]],\n",
    "        \"name\": \"Stair1\",\n",
    "        \"id\": 3,\n",
    "    },\n",
    "    {\n",
    "        \"values\": [[0.5, 1], [0.5,1]],\n",
    "        \"name\": \"Stair2\",\n",
    "        \"id\": 4,\n",
    "    },\n",
    "    {\n",
    "        \"values\": [[1,1], [0.5, 0.5]],\n",
    "        \"name\": \"Stair3\",\n",
    "        \"id\": 5,\n",
    "    },\n",
    "    {\n",
    "        \"values\": [[1,0.5], [1,0.5]],\n",
    "        \"name\": \"Stair4\",\n",
    "        \"id\": 6,\n",
    "    },\n",
    "    {\n",
    "        \"values\": [[0.5, 0.5], [0.5,1]],\n",
    "        \"name\": \"OuterCornerStair1\",\n",
    "        \"id\": 11,\n",
    "    },\n",
    "    {\n",
    "        \"values\": [[0.5, 0.5], [1,0.5]],\n",
    "        \"name\": \"OuterCornerStair2\",\n",
    "        \"id\": 12,\n",
    "    },\n",
    "    {\n",
    "        \"values\": [[1,0.5], [0.5,0.5]],\n",
    "        \"name\": \"OuterCornerStair3\",\n",
    "        \"id\": 13,\n",
    "    },\n",
    "    {\n",
    "        \"values\": [[0.5,1], [0.5,0.5]],\n",
    "        \"name\": \"OuterCornerStair4\",\n",
    "        \"id\": 14,\n",
    "    },\n",
    "    {   \n",
    "        \"values\": [[0.5, 1], [1, 1]],\n",
    "        \"name\": \"InnerCornerStair1\",\n",
    "        \"id\": 19,\n",
    "    },\n",
    "    {\n",
    "        \"values\": [[1, 1], [0.5, 1]],\n",
    "        \"name\": \"InnerCornerStair2\",\n",
    "        \"id\": 20,\n",
    "    },\n",
    "    {\n",
    "        \"values\": [[1, 1], [1, 0.5]],\n",
    "        \"name\": \"InnerCornerStair3\",\n",
    "        \"id\": 21,\n",
    "    },\n",
    "    {\n",
    "        \"values\": [[1, 0.5], [1, 1]],\n",
    "        \"name\": \"InnerCornerStair4\",\n",
    "        \"id\": 22,\n",
    "    },\n",
    "]"
   ]
  },
  {
   "cell_type": "code",
   "execution_count": 17,
   "id": "ff894586",
   "metadata": {},
   "outputs": [],
   "source": [
    "def assign_block(vals: np.ndarray) -> tuple[int, int]:\n",
    "    lift = int(np.max(vals / 2)) * 2\n",
    "    vals = vals - lift\n",
    "    min_error = -1\n",
    "    selected_id = -1\n",
    "    for i, block in enumerate(blocks):\n",
    "        error = ((np.array(block[\"values\"]) - vals) ** 2).sum()\n",
    "        if error < min_error or min_error == -1:\n",
    "            min_error = error\n",
    "            selected_id = i\n",
    "    return selected_id, lift\n"
   ]
  },
  {
   "cell_type": "code",
   "execution_count": 18,
   "id": "94c9e2c6",
   "metadata": {},
   "outputs": [
    {
     "data": {
      "image/png": "[encoded data removed]",
      "text/plain": [
       "<Figure size 640x480 with 2 Axes>"
      ]
     },
     "metadata": {},
     "output_type": "display_data"
    }
   ],
   "source": [
    "\n",
    "lifts = np.zeros((R, R))\n",
    "block_ids = np.zeros((R, R), dtype=int)\n",
    "\n",
    "for i in range(R):\n",
    "    for j in range(R):\n",
    "        vals = data[(2 * i):(2 * (i + 1)), (2 * j):(2 * (j + 1))] \n",
    "        block_id, lift = assign_block(vals)\n",
    "        lifts[i, j] = lift\n",
    "        block_ids[i, j] = block_id\n",
    "data_render = np.zeros((2 * R, 2 * R))\n",
    "for i in range(R):\n",
    "    for j in range(R):\n",
    "        block = blocks[int(block_ids[i, j])]\n",
    "        data_render[(2 * i):(2 * (i + 1)), (2 * j):(2 * (j + 1))] = (2 * np.array(block[\"values\"])) + lifts[i, j]\n",
    "plt.imshow(data_render, cmap='viridis', extent=(-R, R, -R, R))\n",
    "plt.colorbar(label='Height')\n",
    "plt.title(\"Rendered Blocks\")\n",
    "plt.show()"
   ]
  },
  {
   "cell_type": "code",
   "execution_count": null,
   "id": "c6b9be06",
   "metadata": {},
   "outputs": [],
   "source": []
  },
  {
   "cell_type": "code",
   "execution_count": null,
   "id": "e5914630",
   "metadata": {},
   "outputs": [],
   "source": []
  }
 ],
 "metadata": {
  "kernelspec": {
   "display_name": "cube-sphere",
   "language": "python",
   "name": "python3"
  },
  "language_info": {
   "codemirror_mode": {
    "name": "ipython",
    "version": 3
   },
   "file_extension": ".py",
   "mimetype": "text/x-python",
   "name": "python",
   "nbconvert_exporter": "python",
   "pygments_lexer": "ipython3",
   "version": "3.12.3"
  }
 },
 "nbformat": 4,
 "nbformat_minor": 5
}
